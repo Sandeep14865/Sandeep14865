{
  "nbformat": 4,
  "nbformat_minor": 0,
  "metadata": {
    "colab": {
      "name": "Web Scrapping.ipynb",
      "provenance": [],
      "collapsed_sections": [],
      "authorship_tag": "ABX9TyPr3p15n4EKlDO75fY80Pet",
      "include_colab_link": true
    },
    "kernelspec": {
      "name": "python3",
      "display_name": "Python 3"
    },
    "language_info": {
      "name": "python"
    }
  },
  "cells": [
    {
      "cell_type": "markdown",
      "metadata": {
        "id": "view-in-github",
        "colab_type": "text"
      },
      "source": [
        "<a href=\"https://colab.research.google.com/github/Sandeep14865/Sandeep14865/blob/main/Web_Scrapping.ipynb\" target=\"_parent\"><img src=\"https://colab.research.google.com/assets/colab-badge.svg\" alt=\"Open In Colab\"/></a>"
      ]
    },
    {
      "cell_type": "markdown",
      "metadata": {
        "id": "tk3UU-BxUevD"
      },
      "source": [
        "Installing all the neccessary libraries."
      ]
    },
    {
      "cell_type": "code",
      "metadata": {
        "id": "KExLEXb5T6Q3"
      },
      "source": [
        "pip install requests pandas bs4 "
      ],
      "execution_count": null,
      "outputs": []
    },
    {
      "cell_type": "markdown",
      "metadata": {
        "id": "0KZaE1ZxUmIE"
      },
      "source": [
        "Importing required modules"
      ]
    },
    {
      "cell_type": "code",
      "metadata": {
        "id": "8jCUISN3UJOx"
      },
      "source": [
        "import requests\n",
        "from bs4 import BeautifulSoup\n",
        "import pandas as pd"
      ],
      "execution_count": null,
      "outputs": []
    },
    {
      "cell_type": "markdown",
      "metadata": {
        "id": "Vly4RoH-UrQs"
      },
      "source": [
        "**URL is the link of amazon best seller page.**\n",
        "**User agent header helps to bypass scraper check from amazon**"
      ]
    },
    {
      "cell_type": "code",
      "metadata": {
        "id": "_jz8LOusUZ9Q"
      },
      "source": [
        "URL = \"https://www.amazon.in/gp/bestsellers/electronics/ref=zg_bs_nav_0\"\n",
        "\n",
        "HEADERS ={\"User-Agent\":\"Mozilla/5.0 (Windows NT 10.0; Win64; x64; rv:66.0) Gecko/20100101 Firefox/66.0\", \"Accept-Encoding\":\"gzip, deflate\", \"Accept\":\"text/html,application/xhtml+xml,application/xml;q=0.9,*/*;q=0.8\", \"DNT\":\"1\",\"Connection\":\"close\", \"Upgrade-Insecure-Requests\":\"1\"}"
      ],
      "execution_count": null,
      "outputs": []
    },
    {
      "cell_type": "code",
      "metadata": {
        "colab": {
          "base_uri": "https://localhost:8080/"
        },
        "id": "mq_yJPrbXN2t",
        "outputId": "0ddedaa3-773e-47c3-aaa2-91211a4a7fde"
      },
      "source": [
        "response = requests.get(URL, headers=HEADERS)\n",
        "print(response)"
      ],
      "execution_count": null,
      "outputs": [
        {
          "output_type": "stream",
          "text": [
            "<Response [200]>\n"
          ],
          "name": "stdout"
        }
      ]
    }
  ]
}